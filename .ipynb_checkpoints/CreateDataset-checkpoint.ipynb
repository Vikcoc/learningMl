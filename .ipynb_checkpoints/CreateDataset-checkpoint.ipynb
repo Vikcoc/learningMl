{
 "cells": [
  {
   "cell_type": "code",
   "execution_count": 4,
   "id": "fe040392",
   "metadata": {},
   "outputs": [],
   "source": [
    "import csv\n",
    "from numpy.random import seed\n",
    "from numpy.random import rand"
   ]
  },
  {
   "cell_type": "code",
   "execution_count": 5,
   "id": "90a67f49",
   "metadata": {},
   "outputs": [
    {
     "name": "stdout",
     "output_type": "stream",
     "text": [
      "[4.17022005e+00 7.20324493e+00 1.14374817e-03 3.02332573e+00]\n"
     ]
    }
   ],
   "source": [
    "# generate random floating point values\n",
    "\n",
    "# seed random number generator\n",
    "seed(1)\n",
    "# generate random numbers between 0-1\n",
    "values = rand(4) * 10\n",
    "print(values)"
   ]
  },
  {
   "cell_type": "code",
   "execution_count": 7,
   "id": "20954a86",
   "metadata": {},
   "outputs": [],
   "source": [
    "f = open('fl.csv', 'w')\n",
    "\n",
    "# create the csv writer\n",
    "writer = csv.writer(f)"
   ]
  },
  {
   "cell_type": "code",
   "execution_count": 11,
   "id": "fbc0e407",
   "metadata": {},
   "outputs": [
    {
     "data": {
      "text/plain": [
       "77"
      ]
     },
     "execution_count": 11,
     "metadata": {},
     "output_type": "execute_result"
    }
   ],
   "source": [
    "writer.writerow(values)"
   ]
  },
  {
   "cell_type": "code",
   "execution_count": 17,
   "id": "594a0fa6",
   "metadata": {},
   "outputs": [],
   "source": [
    "f.close()"
   ]
  },
  {
   "cell_type": "code",
   "execution_count": 20,
   "id": "394ac331",
   "metadata": {},
   "outputs": [],
   "source": [
    "seed(1)\n",
    "f = open('fl.csv', 'w')\n",
    "writer = csv.writer(f)\n",
    "for i in range(20000):\n",
    "    row = rand(4) * 10\n",
    "    row[3] = row[3]/100\n",
    "    writer.writerow(row)\n",
    "f.close()"
   ]
  },
  {
   "cell_type": "code",
   "execution_count": 19,
   "id": "6c59569f",
   "metadata": {},
   "outputs": [
    {
     "name": "stdout",
     "output_type": "stream",
     "text": [
      "<class 'numpy.ndarray'>\n"
     ]
    }
   ],
   "source": [
    "print(type(values))"
   ]
  },
  {
   "cell_type": "code",
   "execution_count": 21,
   "id": "9fc75c72",
   "metadata": {},
   "outputs": [],
   "source": [
    "f = open('tdfl.csv', 'w')\n",
    "writer = csv.writer(f)\n",
    "for i in range(4000):\n",
    "    row = rand(4) * 10\n",
    "    row[3] = row[3]/100\n",
    "    writer.writerow(row)\n",
    "f.close()"
   ]
  },
  {
   "cell_type": "code",
   "execution_count": null,
   "id": "d39e5a00",
   "metadata": {},
   "outputs": [],
   "source": []
  }
 ],
 "metadata": {
  "kernelspec": {
   "display_name": "Python 3 (ipykernel)",
   "language": "python",
   "name": "python3"
  },
  "language_info": {
   "codemirror_mode": {
    "name": "ipython",
    "version": 3
   },
   "file_extension": ".py",
   "mimetype": "text/x-python",
   "name": "python",
   "nbconvert_exporter": "python",
   "pygments_lexer": "ipython3",
   "version": "3.11.3"
  }
 },
 "nbformat": 4,
 "nbformat_minor": 5
}
