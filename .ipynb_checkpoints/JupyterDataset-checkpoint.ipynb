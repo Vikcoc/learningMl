{
 "cells": [
  {
   "cell_type": "code",
   "execution_count": 25,
   "id": "ef373f27",
   "metadata": {},
   "outputs": [],
   "source": [
    "import csv\n",
    "import numpy as np\n",
    "import torch"
   ]
  },
  {
   "cell_type": "code",
   "execution_count": 13,
   "id": "ddf7e1da",
   "metadata": {},
   "outputs": [],
   "source": [
    "f = open('fl.csv', 'r')\n",
    "reader = csv.reader(f)"
   ]
  },
  {
   "cell_type": "code",
   "execution_count": 19,
   "id": "f113b729",
   "metadata": {},
   "outputs": [],
   "source": [
    "a = np.fromiter(reader, np.ndarray)\n",
    "f.close()"
   ]
  },
  {
   "cell_type": "code",
   "execution_count": 18,
   "id": "ede71b58",
   "metadata": {},
   "outputs": [
    {
     "name": "stdout",
     "output_type": "stream",
     "text": [
      "[list(['3.9676747423066994', '5.3881673400335695', '4.191945144032948', '0.06852195003967596'])\n",
      " list(['2.0445224973151745', '8.781174363909454', '0.27387593197926163', '0.06704675101784022'])\n",
      " list(['4.17304802367127', '5.586898284457517', '1.4038693859523377', '0.01981014890848788'])\n",
      " list(['8.007445686755366', '9.682615757193975', '3.1342417815924284', '0.06923226156693141'])\n",
      " list(['8.763891522960384', '8.946066635038473', '0.8504421136977791', '0.003905478323288236'])\n",
      " list(['1.698304195645689', '8.78142503429413', '0.983468338330501', '0.04211076250050522'])\n",
      " list(['9.57889530150502', '5.331652849730171', '6.9187711395047335', '0.03155156310060629'])\n",
      " list(['6.865009276815837', '8.346256718973729', '0.18288277344191806', '0.07501443149449676'])\n",
      " list(['9.888610889064948', '7.481656543798394', '2.804439920644052', '0.07892793284514886'])\n",
      " list(['1.0322600657764203', '4.478935261759052', '9.085955030930956', '0.029361414837367948'])]\n"
     ]
    }
   ],
   "source": [
    "print(a[:10])"
   ]
  },
  {
   "cell_type": "code",
   "execution_count": 31,
   "id": "e97bca6e",
   "metadata": {},
   "outputs": [],
   "source": [
    "class CustomCsvDataset:\n",
    "    def __init__ (self, data_file):\n",
    "        file = open(data_file, 'r')\n",
    "        self.data = np.fromiter(csv.reader(file), np.ndarray)\n",
    "        file.close()\n",
    "    \n",
    "    def __len__(self):\n",
    "        return len(self.data)\n",
    "    \n",
    "    def __getitem__(self, idx):\n",
    "        self.data[idx, :-1], self.data[idx, -1]"
   ]
  },
  {
   "cell_type": "code",
   "execution_count": 32,
   "id": "3c9e73b1",
   "metadata": {},
   "outputs": [],
   "source": [
    "dataset = CustomCsvDataset('fl.csv')"
   ]
  },
  {
   "cell_type": "code",
   "execution_count": 28,
   "id": "8182ab08",
   "metadata": {},
   "outputs": [
    {
     "ename": "NameError",
     "evalue": "name 'training_data' is not defined",
     "output_type": "error",
     "traceback": [
      "\u001b[0;31m---------------------------------------------------------------------------\u001b[0m",
      "\u001b[0;31mNameError\u001b[0m                                 Traceback (most recent call last)",
      "Cell \u001b[0;32mIn[28], line 3\u001b[0m\n\u001b[1;32m      1\u001b[0m \u001b[38;5;28;01mfrom\u001b[39;00m \u001b[38;5;21;01mtorch\u001b[39;00m\u001b[38;5;21;01m.\u001b[39;00m\u001b[38;5;21;01mutils\u001b[39;00m\u001b[38;5;21;01m.\u001b[39;00m\u001b[38;5;21;01mdata\u001b[39;00m \u001b[38;5;28;01mimport\u001b[39;00m DataLoader\n\u001b[0;32m----> 3\u001b[0m train_dataloader \u001b[38;5;241m=\u001b[39m DataLoader(\u001b[43mtraining_data\u001b[49m, batch_size\u001b[38;5;241m=\u001b[39m\u001b[38;5;241m64\u001b[39m, shuffle\u001b[38;5;241m=\u001b[39m\u001b[38;5;28;01mTrue\u001b[39;00m)\n\u001b[1;32m      4\u001b[0m test_dataloader \u001b[38;5;241m=\u001b[39m DataLoader(test_data, batch_size\u001b[38;5;241m=\u001b[39m\u001b[38;5;241m64\u001b[39m, shuffle\u001b[38;5;241m=\u001b[39m\u001b[38;5;28;01mTrue\u001b[39;00m)\n",
      "\u001b[0;31mNameError\u001b[0m: name 'training_data' is not defined"
     ]
    }
   ],
   "source": [
    "from torch.utils.data import DataLoader\n",
    "\n",
    "train_dataloader = DataLoader(dataset, batch_size=64, shuffle=True)\n",
    "#test_dataloader = DataLoader(test_data, batch_size=64, shuffle=True)"
   ]
  },
  {
   "cell_type": "code",
   "execution_count": null,
   "id": "203bb1f0",
   "metadata": {},
   "outputs": [],
   "source": []
  }
 ],
 "metadata": {
  "kernelspec": {
   "display_name": "Python 3 (ipykernel)",
   "language": "python",
   "name": "python3"
  },
  "language_info": {
   "codemirror_mode": {
    "name": "ipython",
    "version": 3
   },
   "file_extension": ".py",
   "mimetype": "text/x-python",
   "name": "python",
   "nbconvert_exporter": "python",
   "pygments_lexer": "ipython3",
   "version": "3.11.3"
  }
 },
 "nbformat": 4,
 "nbformat_minor": 5
}
