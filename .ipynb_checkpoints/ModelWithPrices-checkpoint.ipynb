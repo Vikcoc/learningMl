{
 "cells": [
  {
   "cell_type": "code",
   "execution_count": 2,
   "id": "798101f6",
   "metadata": {},
   "outputs": [
    {
     "name": "stdout",
     "output_type": "stream",
     "text": [
      "[['\\ufeffCurrentVal', ' s10sVal', ' s20sVal', ' s30sVal', ' s40sVal', ' s50sVal', ' s60sVal'], ['1818.0200000000', '1818.1100000000', '1817.5900000000', '1817.7700000000', '1817.4100000000', '1817.9200000000', '1816.9400000000'], ['1818.1700000000', '1818.0200000000', '1818.1700000000', '1817.5900000000', '1817.9200000000', '1817.7700000000', '1816.9400000000'], ['1818.5300000000', '1818.0200000000', '1818.1700000000', '1817.5900000000', '1817.9200000000', '1817.7700000000', '1817.2500000000'], ['1818.2000000000', '1818.0200000000', '1818.1100000000', '1817.5900000000', '1817.9200000000', '1817.7700000000', '1817.2500000000']]\n"
     ]
    }
   ],
   "source": [
    "import csv\n",
    "from itertools import islice\n",
    "f = open('10SecondStepPriceEvolution.csv', 'r')\n",
    "reader = csv.reader(f)\n",
    "print(list(islice(reader,5)))"
   ]
  },
  {
   "cell_type": "code",
   "execution_count": 1,
   "id": "9275a344",
   "metadata": {},
   "outputs": [
    {
     "name": "stdout",
     "output_type": "stream",
     "text": [
      "           F10      Cur      P10      P20      P30      P40      P50      P60\n",
      "0      1816.25  1814.07  1814.35  1814.83  1814.33  1813.90  1813.94  1812.86\n",
      "1      1815.55  1814.14  1814.20  1814.83  1814.22  1813.23  1814.14  1813.39\n",
      "2      1816.23  1814.89  1814.20  1814.83  1814.22  1813.47  1814.14  1813.39\n",
      "3      1816.23  1815.33  1814.20  1814.29  1814.34  1813.47  1814.19  1813.39\n",
      "4      1816.23  1815.20  1814.20  1813.36  1814.34  1813.47  1814.37  1814.22\n",
      "...        ...      ...      ...      ...      ...      ...      ...      ...\n",
      "80485  1849.97  1851.10  1851.10  1851.10  1851.10  1851.12  1851.05  1851.12\n",
      "80486  1849.97  1851.10  1851.10  1851.10  1851.10  1851.10  1851.12  1851.05\n",
      "80487  1849.97  1851.10  1851.10  1851.10  1851.10  1851.10  1851.12  1851.05\n",
      "80488  1849.97  1851.10  1851.10  1851.10  1851.10  1851.10  1851.12  1851.05\n",
      "80489  1849.97  1851.10  1851.10  1851.10  1851.10  1851.10  1851.12  1851.05\n",
      "\n",
      "[80490 rows x 8 columns]\n"
     ]
    }
   ],
   "source": [
    "import pandas as pd\n",
    "df = pd.read_csv(\"10SecondStepPriceEvolution2.csv\")\n",
    "print(df)"
   ]
  },
  {
   "cell_type": "code",
   "execution_count": 2,
   "id": "e50628a8",
   "metadata": {
    "scrolled": true
   },
   "outputs": [],
   "source": [
    "df[\"F10\"] = df[\"F10\"] - df[\"Cur\"]\n",
    "df[\"P10\"] = df[\"P10\"] - df[\"Cur\"]\n",
    "df[\"P20\"] = df[\"P20\"] - df[\"Cur\"]\n",
    "df[\"P30\"] = df[\"P30\"] - df[\"Cur\"]\n",
    "df[\"P40\"] = df[\"P40\"] - df[\"Cur\"]\n",
    "df[\"P50\"] = df[\"P50\"] - df[\"Cur\"]\n",
    "df[\"P60\"] = df[\"P60\"] - df[\"Cur\"]\n",
    "print(df)"
   ]
  },
  {
   "cell_type": "code",
   "execution_count": 3,
   "id": "2173069f",
   "metadata": {},
   "outputs": [],
   "source": [
    "print(df)"
   ]
  },
  {
   "cell_type": "code",
   "execution_count": 4,
   "id": "be43a278",
   "metadata": {},
   "outputs": [],
   "source": [
    "train_dataset = df.head(70000)\n",
    "test_dataset = df.tail(df.shape[0] - 70000)\n",
    "print(train_dataset)\n",
    "print(test_dataset)\n",
    "print(df)"
   ]
  },
  {
   "cell_type": "code",
   "execution_count": 23,
   "id": "79f7ced7",
   "metadata": {},
   "outputs": [],
   "source": [
    "import torch\n",
    "from torch import nn\n",
    "from torch.utils.data import DataLoader\n",
    "\n",
    "train_dataloader = DataLoader(train_dataset, batch_size=64)\n",
    "test_dataloader = DataLoader(test_dataset, batch_size=64)"
   ]
  },
  {
   "cell_type": "code",
   "execution_count": 24,
   "id": "efba0e7c",
   "metadata": {},
   "outputs": [
    {
     "name": "stdout",
     "output_type": "stream",
     "text": [
      "<torch.utils.data.dataloader.DataLoader object at 0x7fee02a27e90>\n"
     ]
    }
   ],
   "source": [
    "print(train_dataloader)"
   ]
  },
  {
   "cell_type": "code",
   "execution_count": null,
   "id": "817f01af",
   "metadata": {},
   "outputs": [],
   "source": []
  }
 ],
 "metadata": {
  "kernelspec": {
   "display_name": "Python 3 (ipykernel)",
   "language": "python",
   "name": "python3"
  },
  "language_info": {
   "codemirror_mode": {
    "name": "ipython",
    "version": 3
   },
   "file_extension": ".py",
   "mimetype": "text/x-python",
   "name": "python",
   "nbconvert_exporter": "python",
   "pygments_lexer": "ipython3",
   "version": "3.11.3"
  }
 },
 "nbformat": 4,
 "nbformat_minor": 5
}
