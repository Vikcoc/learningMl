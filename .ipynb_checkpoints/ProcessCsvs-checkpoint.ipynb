{
 "cells": [
  {
   "cell_type": "code",
   "execution_count": 6,
   "id": "9ee57a7f",
   "metadata": {},
   "outputs": [],
   "source": [
    "import csv\n",
    "from itertools import islice"
   ]
  },
  {
   "cell_type": "code",
   "execution_count": 12,
   "id": "ffe879e7",
   "metadata": {},
   "outputs": [],
   "source": [
    "f = open('TradingBotExportMoreColumns.csv', 'r')\n",
    "reader = csv.reader(f)"
   ]
  },
  {
   "cell_type": "code",
   "execution_count": 14,
   "id": "2262c4f2",
   "metadata": {},
   "outputs": [
    {
     "name": "stdout",
     "output_type": "stream",
     "text": [
      "[['1841.5300000000', '1703.1200000000', '1816.0000000000', 'ETH_USDT', '30487.9008000000', '54198121.5300000000', '0.0000000000', '0.0429000000', '1816.1800000000', '1.5923000000', '1816.1900000000', '0.0607000000', '2023-03-18 13:41:06.720', '1679146866539'], ['1841.5300000000', '1703.1200000000', '1818.0200000000', 'ETH_USDT', '30518.4584000000', '54253758.5400000000', '0.0000000000', '0.0441000000', '1818.0100000000', '1.0004000000', '1818.1200000000', '0.3000000000', '2023-03-18 13:41:57.777', '1679146917426']]\n"
     ]
    }
   ],
   "source": [
    "print(list(islice(reader,50))[1:])"
   ]
  },
  {
   "cell_type": "code",
   "execution_count": null,
   "id": "def26afb",
   "metadata": {},
   "outputs": [],
   "source": [
    "import pandas as pd\n",
    "df = pd.read_csv(\"TradingBotExportMoreColumns.csv\")"
   ]
  },
  {
   "cell_type": "code",
   "execution_count": null,
   "id": "5ea9d8a9",
   "metadata": {},
   "outputs": [],
   "source": []
  }
 ],
 "metadata": {
  "kernelspec": {
   "display_name": "Python 3 (ipykernel)",
   "language": "python",
   "name": "python3"
  },
  "language_info": {
   "codemirror_mode": {
    "name": "ipython",
    "version": 3
   },
   "file_extension": ".py",
   "mimetype": "text/x-python",
   "name": "python",
   "nbconvert_exporter": "python",
   "pygments_lexer": "ipython3",
   "version": "3.11.3"
  }
 },
 "nbformat": 4,
 "nbformat_minor": 5
}
