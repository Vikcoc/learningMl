{
 "cells": [
  {
   "cell_type": "code",
   "execution_count": 1,
   "id": "798101f6",
   "metadata": {},
   "outputs": [
    {
     "name": "stdout",
     "output_type": "stream",
     "text": [
      "[['\\ufeffF10', 'Cur', 'P10', 'P20', 'P30', 'P40', 'P50', 'P60'], ['1816.2500000000', '1814.0700000000', '1814.3500000000', '1814.8300000000', '1814.3300000000', '1813.9000000000', '1813.9400000000', '1812.8600000000'], ['1815.5500000000', '1814.1400000000', '1814.2000000000', '1814.8300000000', '1814.2200000000', '1813.2300000000', '1814.1400000000', '1813.3900000000'], ['1816.2300000000', '1814.8900000000', '1814.2000000000', '1814.8300000000', '1814.2200000000', '1813.4700000000', '1814.1400000000', '1813.3900000000'], ['1816.2300000000', '1815.3300000000', '1814.2000000000', '1814.2900000000', '1814.3400000000', '1813.4700000000', '1814.1900000000', '1813.3900000000']]\n"
     ]
    }
   ],
   "source": [
    "import csv\n",
    "from itertools import islice\n",
    "f = open('10SecondStepPriceEvolution2.csv', 'r')\n",
    "reader = csv.reader(f)\n",
    "print(list(islice(reader,5)))"
   ]
  },
  {
   "cell_type": "code",
   "execution_count": 2,
   "id": "9275a344",
   "metadata": {},
   "outputs": [
    {
     "name": "stdout",
     "output_type": "stream",
     "text": [
      "           F10      Cur      P10      P20      P30      P40      P50      P60\n",
      "0      1816.25  1814.07  1814.35  1814.83  1814.33  1813.90  1813.94  1812.86\n",
      "1      1815.55  1814.14  1814.20  1814.83  1814.22  1813.23  1814.14  1813.39\n",
      "2      1816.23  1814.89  1814.20  1814.83  1814.22  1813.47  1814.14  1813.39\n",
      "3      1816.23  1815.33  1814.20  1814.29  1814.34  1813.47  1814.19  1813.39\n",
      "4      1816.23  1815.20  1814.20  1813.36  1814.34  1813.47  1814.37  1814.22\n",
      "...        ...      ...      ...      ...      ...      ...      ...      ...\n",
      "80485  1849.97  1851.10  1851.10  1851.10  1851.10  1851.12  1851.05  1851.12\n",
      "80486  1849.97  1851.10  1851.10  1851.10  1851.10  1851.10  1851.12  1851.05\n",
      "80487  1849.97  1851.10  1851.10  1851.10  1851.10  1851.10  1851.12  1851.05\n",
      "80488  1849.97  1851.10  1851.10  1851.10  1851.10  1851.10  1851.12  1851.05\n",
      "80489  1849.97  1851.10  1851.10  1851.10  1851.10  1851.10  1851.12  1851.05\n",
      "\n",
      "[80490 rows x 8 columns]\n"
     ]
    }
   ],
   "source": [
    "import pandas as pd\n",
    "df = pd.read_csv(\"10SecondStepPriceEvolution2.csv\")\n",
    "print(df)"
   ]
  },
  {
   "cell_type": "code",
   "execution_count": 3,
   "id": "e50628a8",
   "metadata": {
    "scrolled": true
   },
   "outputs": [
    {
     "name": "stdout",
     "output_type": "stream",
     "text": [
      "        F10      Cur   P10   P20   P30   P40   P50   P60\n",
      "0      2.18  1814.07  0.28  0.76  0.26 -0.17 -0.13 -1.21\n",
      "1      1.41  1814.14  0.06  0.69  0.08 -0.91  0.00 -0.75\n",
      "2      1.34  1814.89 -0.69 -0.06 -0.67 -1.42 -0.75 -1.50\n",
      "3      0.90  1815.33 -1.13 -1.04 -0.99 -1.86 -1.14 -1.94\n",
      "4      1.03  1815.20 -1.00 -1.84 -0.86 -1.73 -0.83 -0.98\n",
      "...     ...      ...   ...   ...   ...   ...   ...   ...\n",
      "80485 -1.13  1851.10  0.00  0.00  0.00  0.02 -0.05  0.02\n",
      "80486 -1.13  1851.10  0.00  0.00  0.00  0.00  0.02 -0.05\n",
      "80487 -1.13  1851.10  0.00  0.00  0.00  0.00  0.02 -0.05\n",
      "80488 -1.13  1851.10  0.00  0.00  0.00  0.00  0.02 -0.05\n",
      "80489 -1.13  1851.10  0.00  0.00  0.00  0.00  0.02 -0.05\n",
      "\n",
      "[80490 rows x 8 columns]\n"
     ]
    }
   ],
   "source": [
    "df[\"F10\"] = df[\"F10\"] - df[\"Cur\"]\n",
    "df[\"P10\"] = df[\"P10\"] - df[\"Cur\"]\n",
    "df[\"P20\"] = df[\"P20\"] - df[\"Cur\"]\n",
    "df[\"P30\"] = df[\"P30\"] - df[\"Cur\"]\n",
    "df[\"P40\"] = df[\"P40\"] - df[\"Cur\"]\n",
    "df[\"P50\"] = df[\"P50\"] - df[\"Cur\"]\n",
    "df[\"P60\"] = df[\"P60\"] - df[\"Cur\"]\n",
    "print(df)"
   ]
  },
  {
   "cell_type": "code",
   "execution_count": 4,
   "id": "88e4abf0",
   "metadata": {},
   "outputs": [
    {
     "name": "stdout",
     "output_type": "stream",
     "text": [
      "0        1814.07\n",
      "1        1814.14\n",
      "2        1814.89\n",
      "3        1815.33\n",
      "4        1815.20\n",
      "          ...   \n",
      "80485    1851.10\n",
      "80486    1851.10\n",
      "80487    1851.10\n",
      "80488    1851.10\n",
      "80489    1851.10\n",
      "Name: Cur, Length: 80490, dtype: float64\n"
     ]
    }
   ],
   "source": [
    "print(df['Cur'])"
   ]
  },
  {
   "cell_type": "code",
   "execution_count": 5,
   "id": "61354eae",
   "metadata": {
    "scrolled": true
   },
   "outputs": [
    {
     "name": "stdout",
     "output_type": "stream",
     "text": [
      "        F10   P10   P20   P30   P40   P50   P60\n",
      "0      2.18  0.28  0.76  0.26 -0.17 -0.13 -1.21\n",
      "1      1.41  0.06  0.69  0.08 -0.91  0.00 -0.75\n",
      "2      1.34 -0.69 -0.06 -0.67 -1.42 -0.75 -1.50\n",
      "3      0.90 -1.13 -1.04 -0.99 -1.86 -1.14 -1.94\n",
      "4      1.03 -1.00 -1.84 -0.86 -1.73 -0.83 -0.98\n",
      "...     ...   ...   ...   ...   ...   ...   ...\n",
      "80485 -1.13  0.00  0.00  0.00  0.02 -0.05  0.02\n",
      "80486 -1.13  0.00  0.00  0.00  0.00  0.02 -0.05\n",
      "80487 -1.13  0.00  0.00  0.00  0.00  0.02 -0.05\n",
      "80488 -1.13  0.00  0.00  0.00  0.00  0.02 -0.05\n",
      "80489 -1.13  0.00  0.00  0.00  0.00  0.02 -0.05\n",
      "\n",
      "[80490 rows x 7 columns]\n"
     ]
    }
   ],
   "source": [
    "df.drop('Cur', axis=1, inplace=True)\n",
    "\n",
    "print(df)"
   ]
  },
  {
   "cell_type": "code",
   "execution_count": 6,
   "id": "ae9e1b37",
   "metadata": {
    "scrolled": true
   },
   "outputs": [
    {
     "name": "stdout",
     "output_type": "stream",
     "text": [
      "F10\n",
      " 0    50859\n",
      "-1    14928\n",
      " 1    14703\n",
      "Name: count, dtype: int64\n"
     ]
    }
   ],
   "source": [
    "print(df['F10'].apply(lambda x: 1 if x >= 1 else -1 if x <= -1 else 0).value_counts())"
   ]
  },
  {
   "cell_type": "code",
   "execution_count": 7,
   "id": "876ec397",
   "metadata": {},
   "outputs": [],
   "source": [
    "df['F10'] = df['F10'].apply(lambda x: 1 if x >= 1 else -1 if x <= -1 else 0)"
   ]
  },
  {
   "cell_type": "code",
   "execution_count": 8,
   "id": "20675a49",
   "metadata": {},
   "outputs": [],
   "source": [
    "#print(df[df['F10'] == 0])\n",
    "zeros = df[df['F10'] == 0]\n",
    "ones  = df[df['F10'] == 1]\n",
    "negas = df[df['F10'] == -1]"
   ]
  },
  {
   "cell_type": "code",
   "execution_count": 9,
   "id": "1b453130",
   "metadata": {
    "scrolled": false
   },
   "outputs": [
    {
     "name": "stdout",
     "output_type": "stream",
     "text": [
      "       F10   P10   P20   P30   P40   P50   P60\n",
      "3        0 -1.13 -1.04 -0.99 -1.86 -1.14 -1.94\n",
      "5        0 -2.10 -1.84 -0.62 -2.59 -1.85 -1.59\n",
      "6        0 -2.26 -1.91 -0.84 -2.82 -2.56 -2.05\n",
      "7        0 -1.70 -2.26 -1.03 -3.01 -2.69 -2.24\n",
      "8        0 -1.30 -2.30 -1.54 -2.95 -2.73 -2.75\n",
      "...    ...   ...   ...   ...   ...   ...   ...\n",
      "80473    0  0.00  0.00  0.02 -0.05  0.02 -0.35\n",
      "80474    0  0.00  0.00  0.02 -0.05  0.02 -0.35\n",
      "80475    0  0.00  0.00  0.02 -0.05  0.02  0.02\n",
      "80476    0  0.00  0.00  0.02  0.02  0.02  0.02\n",
      "80477    0  0.00  0.00  0.00  0.02 -0.05  0.02\n",
      "\n",
      "[50859 rows x 7 columns]\n",
      "       F10   P10   P20   P30   P40   P50   P60\n",
      "0        0 -1.00 -0.51  4.23  2.71  6.13  7.56\n",
      "1        0 -1.68  1.11  2.91  2.18 -1.72  0.59\n",
      "2        0 -0.45 -1.52 -4.14 -3.34 -3.66 -3.47\n",
      "3        0  0.00 -0.55 -0.16  0.90  1.00  0.99\n",
      "4        0  0.11  0.36  0.36  0.83  0.68  0.62\n",
      "...    ...   ...   ...   ...   ...   ...   ...\n",
      "14995    0  1.27  0.00 -1.11 -0.43 -1.11 -1.29\n",
      "14996    0  1.25  1.52  2.46  2.36  3.64  3.87\n",
      "14997    0 -0.29 -0.15 -0.14  0.19  0.57  0.61\n",
      "14998    0  0.74  1.28  1.78  1.98  2.95  2.42\n",
      "14999    0 -0.40  0.14  1.85  1.90  2.22  2.59\n",
      "\n",
      "[15000 rows x 7 columns]\n"
     ]
    }
   ],
   "source": [
    "print(zeros)\n",
    "zeros = zeros.sample(frac=1).reset_index(drop=True)\n",
    "zeros = zeros[:15000]\n",
    "print(zeros)"
   ]
  },
  {
   "cell_type": "code",
   "execution_count": 10,
   "id": "53a9e9e7",
   "metadata": {},
   "outputs": [
    {
     "name": "stdout",
     "output_type": "stream",
     "text": [
      "       F10   P10   P20   P30   P40   P50   P60\n",
      "0        0 -0.40 -0.52 -0.67 -0.40 -0.11  0.15\n",
      "1        1  1.70  2.10  2.10  1.35  5.13  5.13\n",
      "2       -1  1.27  1.23  1.73  1.05  1.04  0.58\n",
      "3       -1  0.30  1.53 -1.60 -2.26 -1.15 -8.38\n",
      "4        0  0.31 -1.88 -1.11 -0.47  0.76  2.48\n",
      "...    ...   ...   ...   ...   ...   ...   ...\n",
      "44626    1  0.63  1.43  1.07  0.09 -0.33 -0.35\n",
      "44627    0 -0.38  0.60  0.96  1.83  1.57  1.48\n",
      "44628   -1  3.34  1.43 -0.97 -1.36 -1.05 -1.08\n",
      "44629    0 -0.23  0.33 -0.93 -0.82 -1.75 -1.57\n",
      "44630   -1 -1.90 -2.53 -4.27 -5.36 -4.11 -3.59\n",
      "\n",
      "[44631 rows x 7 columns]\n"
     ]
    }
   ],
   "source": [
    "df = pd.concat([zeros, ones, negas])\n",
    "df = df.sample(frac=1).reset_index(drop=True)\n",
    "print(df)"
   ]
  },
  {
   "cell_type": "code",
   "execution_count": 11,
   "id": "88326ab1",
   "metadata": {},
   "outputs": [
    {
     "name": "stdout",
     "output_type": "stream",
     "text": [
      "F10\n",
      " 0    15000\n",
      "-1    14928\n",
      " 1    14703\n",
      "Name: count, dtype: int64\n"
     ]
    }
   ],
   "source": [
    "print(df['F10'].apply(lambda x: 1 if x >= 1 else -1 if x <= -1 else 0).value_counts())"
   ]
  },
  {
   "cell_type": "code",
   "execution_count": 12,
   "id": "be43a278",
   "metadata": {},
   "outputs": [
    {
     "name": "stdout",
     "output_type": "stream",
     "text": [
      "       F10   P10   P20   P30   P40   P50   P60\n",
      "0        0 -0.40 -0.52 -0.67 -0.40 -0.11  0.15\n",
      "1        1  1.70  2.10  2.10  1.35  5.13  5.13\n",
      "2       -1  1.27  1.23  1.73  1.05  1.04  0.58\n",
      "3       -1  0.30  1.53 -1.60 -2.26 -1.15 -8.38\n",
      "4        0  0.31 -1.88 -1.11 -0.47  0.76  2.48\n",
      "...    ...   ...   ...   ...   ...   ...   ...\n",
      "39995   -1 -0.17 -4.26 -2.99 -2.90 -3.29 -4.69\n",
      "39996    1  1.23  1.92  4.50  5.19  5.62  2.90\n",
      "39997    1  0.44  0.72  1.08  3.08  2.31  0.72\n",
      "39998    0 -0.40 -1.23 -1.29 -0.94 -0.08 -0.07\n",
      "39999    0 -0.24  0.38  0.12  0.49  0.46 -0.38\n",
      "\n",
      "[40000 rows x 7 columns]\n",
      "       F10   P10   P20    P30    P40    P50    P60\n",
      "40000    0  0.47  0.30   0.25   0.06  -0.14   0.31\n",
      "40001   -1 -0.77  7.07  10.67   8.46   7.02  13.65\n",
      "40002    1  1.85  6.61  10.21  12.07  12.50  13.85\n",
      "40003    1 -0.06  2.28   0.20   0.00   0.20  -1.11\n",
      "40004    0 -0.54 -0.73  -3.34  -3.47  -4.45  -5.95\n",
      "...    ...   ...   ...    ...    ...    ...    ...\n",
      "44626    1  0.63  1.43   1.07   0.09  -0.33  -0.35\n",
      "44627    0 -0.38  0.60   0.96   1.83   1.57   1.48\n",
      "44628   -1  3.34  1.43  -0.97  -1.36  -1.05  -1.08\n",
      "44629    0 -0.23  0.33  -0.93  -0.82  -1.75  -1.57\n",
      "44630   -1 -1.90 -2.53  -4.27  -5.36  -4.11  -3.59\n",
      "\n",
      "[4631 rows x 7 columns]\n"
     ]
    }
   ],
   "source": [
    "train_dataset = df.head(40000)\n",
    "test_dataset = df.tail(df.shape[0] - 40000)\n",
    "print(train_dataset)\n",
    "print(test_dataset)\n",
    "#print(df)"
   ]
  },
  {
   "cell_type": "code",
   "execution_count": 13,
   "id": "79f7ced7",
   "metadata": {},
   "outputs": [],
   "source": [
    "import torch\n",
    "from torch import nn\n",
    "from torch.utils.data import DataLoader\n",
    "\n",
    "train_dataloader = DataLoader(train_dataset, batch_size=64)\n",
    "test_dataloader = DataLoader(test_dataset, batch_size=64)"
   ]
  },
  {
   "cell_type": "code",
   "execution_count": 14,
   "id": "efba0e7c",
   "metadata": {},
   "outputs": [
    {
     "name": "stdout",
     "output_type": "stream",
     "text": [
      "<torch.utils.data.dataloader.DataLoader object at 0x7f2b2bf992d0>\n"
     ]
    }
   ],
   "source": [
    "print(train_dataloader)"
   ]
  },
  {
   "cell_type": "code",
   "execution_count": 56,
   "id": "817f01af",
   "metadata": {},
   "outputs": [],
   "source": [
    "import os\n",
    "import pandas as pd\n",
    "from torch.utils.data import Dataset\n",
    "\n",
    "class CustomImageDataset(Dataset):\n",
    "    def __init__(self, dataframe, labels):\n",
    "        self.dataframe = dataframe\n",
    "        self.labels = labels\n",
    "        \n",
    "\n",
    "    def __len__(self):\n",
    "        return len(self.labels)\n",
    "\n",
    "    def __getitem__(self, idx):\n",
    "        #return list(self.dataframe.iloc[idx]), self.labels.iloc[idx]\n",
    "        return self.dataframe.iloc[idx], self.labels.iloc[idx]\n"
   ]
  },
  {
   "cell_type": "code",
   "execution_count": 57,
   "id": "c505d82a",
   "metadata": {
    "scrolled": true
   },
   "outputs": [
    {
     "name": "stdout",
     "output_type": "stream",
     "text": [
      "(P10   -0.40\n",
      "P20   -0.52\n",
      "P30   -0.67\n",
      "P40   -0.40\n",
      "P50   -0.11\n",
      "P60    0.15\n",
      "Name: 0, dtype: float64, 0)\n"
     ]
    }
   ],
   "source": [
    "tlbl = train_dataset['F10']\n",
    "tset = train_dataset.drop('F10', axis=1)\n",
    "cid = CustomImageDataset(tset, tlbl)\n",
    "print(cid[0])"
   ]
  },
  {
   "cell_type": "code",
   "execution_count": 55,
   "id": "6a1d9ea7",
   "metadata": {},
   "outputs": [
    {
     "name": "stdout",
     "output_type": "stream",
     "text": [
      "([-0.40000000000009095, -0.5199999999999818, -0.6700000000000728, -0.40000000000009095, -0.11000000000012733, 0.14999999999986358], 0)\n"
     ]
    }
   ],
   "source": [
    "tlbl = train_dataset['F10']\n",
    "tset = train_dataset.drop('F10', axis=1)\n",
    "cid = CustomImageDataset(tset, tlbl)\n",
    "print(cid[0])"
   ]
  },
  {
   "cell_type": "code",
   "execution_count": 32,
   "id": "68654d34",
   "metadata": {},
   "outputs": [
    {
     "name": "stdout",
     "output_type": "stream",
     "text": [
      "<torch.utils.data.dataloader.DataLoader object at 0x7f2b2979b050>\n"
     ]
    }
   ],
   "source": [
    "train_dataloader = DataLoader(cid, batch_size=64)\n",
    "print(train_dataloader)"
   ]
  },
  {
   "cell_type": "code",
   "execution_count": null,
   "id": "a16faa9e",
   "metadata": {},
   "outputs": [],
   "source": []
  }
 ],
 "metadata": {
  "kernelspec": {
   "display_name": "Python 3 (ipykernel)",
   "language": "python",
   "name": "python3"
  },
  "language_info": {
   "codemirror_mode": {
    "name": "ipython",
    "version": 3
   },
   "file_extension": ".py",
   "mimetype": "text/x-python",
   "name": "python",
   "nbconvert_exporter": "python",
   "pygments_lexer": "ipython3",
   "version": "3.11.3"
  }
 },
 "nbformat": 4,
 "nbformat_minor": 5
}
