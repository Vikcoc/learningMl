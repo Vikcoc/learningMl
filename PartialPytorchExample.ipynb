{
 "cells": [
  {
   "cell_type": "code",
   "execution_count": 5,
   "id": "4c6b42a9",
   "metadata": {},
   "outputs": [],
   "source": [
    "import os\n",
    "import torch\n",
    "from torch import nn\n",
    "from torch.utils.data import DataLoader"
   ]
  },
  {
   "cell_type": "code",
   "execution_count": 6,
   "id": "995a5426",
   "metadata": {},
   "outputs": [],
   "source": [
    "from torchvision import datasets, transforms"
   ]
  },
  {
   "cell_type": "code",
   "execution_count": 7,
   "id": "05972233",
   "metadata": {},
   "outputs": [
    {
     "name": "stdout",
     "output_type": "stream",
     "text": [
      "Using cpu device\n"
     ]
    }
   ],
   "source": [
    "device = \"cpu\"\n",
    "print(f\"Using {device} device\")"
   ]
  },
  {
   "cell_type": "code",
   "execution_count": 8,
   "id": "bacc4914",
   "metadata": {},
   "outputs": [],
   "source": [
    "class NeuralNetwork(nn.Module):\n",
    "    def __init__(self):\n",
    "        super().__init__()\n",
    "        self.flatten = nn.Flatten()\n",
    "        self.linear_relu_stack = nn.Sequential(\n",
    "            nn.Linear(12, 9),\n",
    "            nn.ReLU(),\n",
    "            nn.Linear(9, 6),\n",
    "            nn.ReLU(),\n",
    "            nn.Linear(6, 3),\n",
    "        )\n",
    "\n",
    "    def forward(self, x):\n",
    "        x = self.flatten(x)\n",
    "        logits = self.linear_relu_stack(x)\n",
    "        return logits"
   ]
  },
  {
   "cell_type": "code",
   "execution_count": 9,
   "id": "e1e2d4a2",
   "metadata": {},
   "outputs": [
    {
     "name": "stdout",
     "output_type": "stream",
     "text": [
      "NeuralNetwork(\n",
      "  (flatten): Flatten(start_dim=1, end_dim=-1)\n",
      "  (linear_relu_stack): Sequential(\n",
      "    (0): Linear(in_features=12, out_features=9, bias=True)\n",
      "    (1): ReLU()\n",
      "    (2): Linear(in_features=9, out_features=6, bias=True)\n",
      "    (3): ReLU()\n",
      "    (4): Linear(in_features=6, out_features=3, bias=True)\n",
      "  )\n",
      ")\n"
     ]
    }
   ],
   "source": [
    "model = NeuralNetwork().to(device)\n",
    "print(model)"
   ]
  },
  {
   "cell_type": "code",
   "execution_count": 25,
   "id": "2a148381",
   "metadata": {},
   "outputs": [
    {
     "name": "stdout",
     "output_type": "stream",
     "text": [
      "tensor([[[0.8149, 0.3308, 0.0539, 0.6682, 0.3838, 0.4057, 0.4744, 0.0992,\n",
      "          0.2531, 0.6818, 0.6184, 0.3539]],\n",
      "\n",
      "        [[0.7171, 0.8059, 0.9195, 0.4357, 0.3952, 0.2804, 0.5177, 0.6632,\n",
      "          0.9908, 0.4539, 0.2069, 0.7042]],\n",
      "\n",
      "        [[0.2280, 0.0737, 0.2223, 0.4465, 0.4769, 0.9012, 0.9484, 0.6469,\n",
      "          0.1059, 0.1354, 0.7630, 0.6680]]])\n",
      "Predicted class: tensor([0, 0, 0])\n"
     ]
    }
   ],
   "source": [
    "X = torch.rand(3, 1, 12, device=device)\n",
    "print(X)\n",
    "logits = model(X)\n",
    "pred_probab = nn.Softmax(dim=1)(logits)\n",
    "y_pred = pred_probab.argmax(1)\n",
    "print(f\"Predicted class: {y_pred}\")"
   ]
  },
  {
   "cell_type": "code",
   "execution_count": 26,
   "id": "8eda40ee",
   "metadata": {},
   "outputs": [
    {
     "name": "stdout",
     "output_type": "stream",
     "text": [
      "Model structure: NeuralNetwork(\n",
      "  (flatten): Flatten(start_dim=1, end_dim=-1)\n",
      "  (linear_relu_stack): Sequential(\n",
      "    (0): Linear(in_features=12, out_features=9, bias=True)\n",
      "    (1): ReLU()\n",
      "    (2): Linear(in_features=9, out_features=6, bias=True)\n",
      "    (3): ReLU()\n",
      "    (4): Linear(in_features=6, out_features=3, bias=True)\n",
      "  )\n",
      ")\n",
      "\n",
      "\n",
      "Layer: linear_relu_stack.0.weight | Size: torch.Size([9, 12]) | Values : tensor([[-0.0615, -0.2010,  0.1161,  0.1706, -0.1022, -0.1012,  0.2337, -0.2400,\n",
      "          0.2353,  0.2140, -0.0192,  0.2268],\n",
      "        [-0.0495, -0.2221, -0.2154, -0.2806,  0.2538,  0.2267, -0.0269, -0.0537,\n",
      "          0.1959,  0.2515,  0.0616, -0.1607]], grad_fn=<SliceBackward0>) \n",
      "\n",
      "Layer: linear_relu_stack.0.bias | Size: torch.Size([9]) | Values : tensor([-0.2584,  0.2105], grad_fn=<SliceBackward0>) \n",
      "\n",
      "Layer: linear_relu_stack.2.weight | Size: torch.Size([6, 9]) | Values : tensor([[ 0.0447, -0.2036,  0.2568, -0.2262, -0.1583, -0.0086,  0.1464, -0.2051,\n",
      "         -0.3121],\n",
      "        [ 0.0199,  0.0579, -0.2666,  0.1112,  0.1721, -0.2507,  0.2702,  0.2822,\n",
      "          0.0698]], grad_fn=<SliceBackward0>) \n",
      "\n",
      "Layer: linear_relu_stack.2.bias | Size: torch.Size([6]) | Values : tensor([ 0.2612, -0.1798], grad_fn=<SliceBackward0>) \n",
      "\n",
      "Layer: linear_relu_stack.4.weight | Size: torch.Size([3, 6]) | Values : tensor([[-0.2049,  0.0353,  0.2117, -0.0180,  0.2952, -0.0614],\n",
      "        [ 0.1142, -0.4070, -0.1930,  0.0232,  0.2083,  0.3097]],\n",
      "       grad_fn=<SliceBackward0>) \n",
      "\n",
      "Layer: linear_relu_stack.4.bias | Size: torch.Size([3]) | Values : tensor([ 0.3975, -0.0627], grad_fn=<SliceBackward0>) \n",
      "\n"
     ]
    }
   ],
   "source": [
    "print(f\"Model structure: {model}\\n\\n\")\n",
    "\n",
    "for name, param in model.named_parameters():\n",
    "    print(f\"Layer: {name} | Size: {param.size()} | Values : {param[:2]} \\n\")"
   ]
  },
  {
   "cell_type": "code",
   "execution_count": 27,
   "id": "b462973d",
   "metadata": {},
   "outputs": [],
   "source": [
    "learning_rate = 1e-3\n",
    "batch_size = 64\n",
    "epochs = 5"
   ]
  },
  {
   "cell_type": "code",
   "execution_count": 28,
   "id": "89da3295",
   "metadata": {},
   "outputs": [],
   "source": [
    "# Initialize the loss function\n",
    "loss_fn = nn.CrossEntropyLoss()"
   ]
  },
  {
   "cell_type": "code",
   "execution_count": 29,
   "id": "5c38109e",
   "metadata": {},
   "outputs": [],
   "source": [
    "optimizer = torch.optim.SGD(model.parameters(), lr=learning_rate)"
   ]
  },
  {
   "cell_type": "code",
   "execution_count": null,
   "id": "76a7088c",
   "metadata": {},
   "outputs": [],
   "source": []
  }
 ],
 "metadata": {
  "kernelspec": {
   "display_name": "Python 3 (ipykernel)",
   "language": "python",
   "name": "python3"
  },
  "language_info": {
   "codemirror_mode": {
    "name": "ipython",
    "version": 3
   },
   "file_extension": ".py",
   "mimetype": "text/x-python",
   "name": "python",
   "nbconvert_exporter": "python",
   "pygments_lexer": "ipython3",
   "version": "3.11.3"
  }
 },
 "nbformat": 4,
 "nbformat_minor": 5
}
